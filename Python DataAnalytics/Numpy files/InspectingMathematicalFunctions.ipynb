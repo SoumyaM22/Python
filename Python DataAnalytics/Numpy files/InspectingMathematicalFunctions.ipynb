{
 "cells": [
  {
   "cell_type": "code",
   "execution_count": 1,
   "id": "b7403827-030c-4034-99d6-35f722286cfb",
   "metadata": {},
   "outputs": [
    {
     "name": "stdout",
     "output_type": "stream",
     "text": [
      "Hello\n"
     ]
    }
   ],
   "source": [
    "print(\"Hello\")"
   ]
  },
  {
   "cell_type": "code",
   "execution_count": 4,
   "id": "c4089f61-c92e-4e1e-a644-a80dade90174",
   "metadata": {},
   "outputs": [
    {
     "name": "stdout",
     "output_type": "stream",
     "text": [
      "Hi\n"
     ]
    }
   ],
   "source": [
    "print(\"Hi\")"
   ]
  },
  {
   "cell_type": "code",
   "execution_count": 25,
   "id": "19a64b97-5f41-4e4c-80a6-3f5eae5910d6",
   "metadata": {},
   "outputs": [
    {
     "name": "stdout",
     "output_type": "stream",
     "text": [
      "[[30 40 20]\n",
      " [40 60 10]]\n",
      "(2, 3)\n",
      "6\n",
      "2\n",
      "<class 'numpy.ndarray'>\n",
      "int64\n",
      "[[30. 40. 20.]\n",
      " [40. 60. 10.]]\n"
     ]
    }
   ],
   "source": [
    "import numpy as np\n",
    "a = [[30,40,20],[40,60,10]]\n",
    "arr = np.array(a) # converting list to array\n",
    "print(arr)\n",
    "print(np.shape(arr))\n",
    "print(np.size(arr))\n",
    "print(len(a))\n",
    "print(type(arr))\n",
    "print(arr.dtype)\n",
    "print(arr.astype(float))"
   ]
  },
  {
   "cell_type": "code",
   "execution_count": 33,
   "id": "8b3af4b3-738b-4cb1-a668-9c0254d55648",
   "metadata": {},
   "outputs": [
    {
     "name": "stdout",
     "output_type": "stream",
     "text": [
      "[60 60 70 40 30]\n",
      "[60 60 70 40 30]\n",
      "[[60 60]\n",
      " [30 30]]\n",
      "[[60 60]\n",
      " [30 30]]\n"
     ]
    }
   ],
   "source": [
    "import numpy\n",
    "arr1 = np.array([30,40,60,20,10])\n",
    "arr2 = np.array([30,20,10,20,20])\n",
    "print(arr1+arr2)\n",
    "print(np.add(arr1,arr2))\n",
    "#####2-dimensional array###########\n",
    "arr3 = np.array([[30,40],[20,10]])\n",
    "arr4 = np.array([[30,20],[10,20]])\n",
    "print(arr3+arr4)\n",
    "print(np.add(arr3,arr4))"
   ]
  },
  {
   "cell_type": "code",
   "execution_count": 35,
   "id": "203150da-5297-4f3d-b07d-b4873b73e91a",
   "metadata": {},
   "outputs": [
    {
     "name": "stdout",
     "output_type": "stream",
     "text": [
      "[  0  20  50   0 -10]\n",
      "[  0  20  50   0 -10]\n",
      "[[  0  20]\n",
      " [ 10 -10]]\n",
      "[[  0  20]\n",
      " [ 10 -10]]\n"
     ]
    }
   ],
   "source": [
    "import numpy\n",
    "arr1 = np.array([30,40,60,20,10])\n",
    "arr2 = np.array([30,20,10,20,20])\n",
    "print(arr1-arr2)\n",
    "print(np.subtract(arr1,arr2))\n",
    "#####2-dimensional array###########\n",
    "arr3 = np.array([[30,40],[20,10]])\n",
    "arr4 = np.array([[30,20],[10,20]])\n",
    "print(arr3-arr4)\n",
    "print(np.subtract(arr3,arr4))"
   ]
  },
  {
   "cell_type": "code",
   "execution_count": 38,
   "id": "045af3e4-85bf-4e89-91bb-8668cbaa8fa2",
   "metadata": {},
   "outputs": [
    {
     "name": "stdout",
     "output_type": "stream",
     "text": [
      "[[900 800]\n",
      " [200 200]]\n",
      "[[900 800]\n",
      " [200 200]]\n"
     ]
    }
   ],
   "source": [
    "#####2-dimensional array###########\n",
    "arr3 = np.array([[30,40],[20,10]])\n",
    "arr4 = np.array([[30,20],[10,20]])\n",
    "print(arr3*arr4)\n",
    "print(np.multiply(arr3,arr4))"
   ]
  },
  {
   "cell_type": "code",
   "execution_count": 40,
   "id": "a089120b-0a8d-44c1-a88f-81b523417d8a",
   "metadata": {},
   "outputs": [
    {
     "name": "stdout",
     "output_type": "stream",
     "text": [
      "[[1.  2. ]\n",
      " [2.  0.5]]\n",
      "[[1.  2. ]\n",
      " [2.  0.5]]\n"
     ]
    }
   ],
   "source": [
    "#####2-dimensional array###########\n",
    "arr3 = np.array([[30,40],[20,10]])\n",
    "arr4 = np.array([[30,20],[10,20]])\n",
    "print(arr3/arr4)\n",
    "print(np.divide(arr3,arr4))"
   ]
  },
  {
   "cell_type": "code",
   "execution_count": 48,
   "id": "72832f96-f9d1-4651-8420-8de2617da6f1",
   "metadata": {},
   "outputs": [
    {
     "name": "stdout",
     "output_type": "stream",
     "text": [
      "[20.08553692 54.59815003  7.3890561   2.71828183]\n",
      "[ 9 16  4  1]\n",
      "[3. 4. 2. 1.]\n"
     ]
    }
   ],
   "source": [
    "arr1 = np.array([3,4,2,1])\n",
    "arr2 = np.array([2])\n",
    "print(np.exp(arr1))\n",
    "print(np.pow(arr1,arr2))\n",
    "arr3 = np.array([9,16,4,1])\n",
    "print(np.sqrt(arr3))"
   ]
  }
 ],
 "metadata": {
  "kernelspec": {
   "display_name": "Python 3 (ipykernel)",
   "language": "python",
   "name": "python3"
  },
  "language_info": {
   "codemirror_mode": {
    "name": "ipython",
    "version": 3
   },
   "file_extension": ".py",
   "mimetype": "text/x-python",
   "name": "python",
   "nbconvert_exporter": "python",
   "pygments_lexer": "ipython3",
   "version": "3.12.3"
  }
 },
 "nbformat": 4,
 "nbformat_minor": 5
}
