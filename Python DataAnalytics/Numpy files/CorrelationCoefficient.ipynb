{
 "cells": [
  {
   "cell_type": "code",
   "execution_count": 11,
   "id": "1b167169-3748-4c3c-951b-fdb007aa10b7",
   "metadata": {},
   "outputs": [
    {
     "name": "stdout",
     "output_type": "stream",
     "text": [
      "202.25\n",
      "194.0\n",
      "200\n",
      "188\n",
      "55.68157235567257\n",
      "3100.4375\n"
     ]
    }
   ],
   "source": [
    "import numpy as np\n",
    "import statistics as stats\n",
    "baked_food = [200,300,150,130,200,280,170,188]\n",
    "baked_food2 = [188,200,300,150,200,280,170,188,280]\n",
    "\n",
    "a = np.array(baked_food)\n",
    "print(np.mean(baked_food)) #mean formula - sum of elements/ no. of elements \n",
    "print(np.median(baked_food)) \n",
    "#For median sort first - 130,150,170,188,200,200,280,300 \n",
    "# median - for even no. of elemnts - avg of center elements- (188+200)/2\n",
    "# for odd no. of elements - center no. - 188\n",
    "print(stats.mode(baked_food))\n",
    "#mode - is most repeated value\n",
    "print(stats.mode(baked_food2))\n",
    "print(np.std(baked_food))\n",
    "print(np.var(baked_food))"
   ]
  },
  {
   "cell_type": "code",
   "execution_count": 12,
   "id": "d67a85a3-5c2a-441e-98e5-7266e019f1a1",
   "metadata": {},
   "outputs": [
    {
     "name": "stdout",
     "output_type": "stream",
     "text": [
      "[[1.         0.99015454]\n",
      " [0.99015454 1.        ]]\n"
     ]
    }
   ],
   "source": [
    "tobacco_consumption = [30,50,10,30,50,40]\n",
    "deaths = [100,120,70,100,120,112]\n",
    "print(np.corrcoef([tobacco_consumption,deaths])) # Correlation coefficient\n",
    "# -1 represents inversely proportional relationship\n",
    "# 1 represents proportional relationship\n",
    "# 0 represents no relationship\n",
    "# Result is Positive Relationship -\n",
    "# Here as tobacco_concumption increases deaths aslso increase"
   ]
  },
  {
   "cell_type": "code",
   "execution_count": 13,
   "id": "baa1097b-55dc-49b6-81c1-e23ae70c8223",
   "metadata": {},
   "outputs": [
    {
     "name": "stdout",
     "output_type": "stream",
     "text": [
      "[[ 1.         -0.66621445]\n",
      " [-0.66621445  1.        ]]\n"
     ]
    }
   ],
   "source": [
    "price = [300,100,350,150,200]\n",
    "sales = [10,20,7,17,3]\n",
    "print(np.corrcoef([price,sales]))\n",
    "# Negative Relationship - \n",
    "# Here as prices go up, sales are decreasing &\n",
    "# as prices go down, sales are increasing"
   ]
  }
 ],
 "metadata": {
  "kernelspec": {
   "display_name": "Python 3 (ipykernel)",
   "language": "python",
   "name": "python3"
  },
  "language_info": {
   "codemirror_mode": {
    "name": "ipython",
    "version": 3
   },
   "file_extension": ".py",
   "mimetype": "text/x-python",
   "name": "python",
   "nbconvert_exporter": "python",
   "pygments_lexer": "ipython3",
   "version": "3.12.3"
  }
 },
 "nbformat": 4,
 "nbformat_minor": 5
}
