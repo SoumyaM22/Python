{
 "cells": [
  {
   "cell_type": "code",
   "execution_count": 5,
   "id": "233b47e7-8e5e-4231-b609-cf890aed6db2",
   "metadata": {},
   "outputs": [
    {
     "name": "stdout",
     "output_type": "stream",
     "text": [
      "[20 40 60 80 90]\n",
      "[ 20  40  60  80  90 100]\n"
     ]
    }
   ],
   "source": [
    "import numpy as np\n",
    "a = np.array([20,40,60,80])\n",
    "print(np.append(a,90))\n",
    "b = np.array([[20,40],[60,80]])\n",
    "print(np.append(b,[90,100]))"
   ]
  },
  {
   "cell_type": "code",
   "execution_count": 15,
   "id": "e847f641-ee13-4e01-9a9d-a75f091bb5cc",
   "metadata": {},
   "outputs": [
    {
     "name": "stdout",
     "output_type": "stream",
     "text": [
      "[20 50 40 60 80]\n",
      "[[ 20  40]\n",
      " [ 50 100]\n",
      " [ 60  80]]\n",
      "[[ 20  50  40]\n",
      " [ 60 100  80]]\n"
     ]
    }
   ],
   "source": [
    "print(np.insert(a,1,50)) #array, index, value\n",
    "print(np.insert(b,1,[50,100],axis=0))\n",
    "print(np.insert(b,1,[50,100],axis=1))"
   ]
  },
  {
   "cell_type": "code",
   "execution_count": 20,
   "id": "9314ec0b-d3c9-40aa-8dcd-59d308596d68",
   "metadata": {},
   "outputs": [
    {
     "name": "stdout",
     "output_type": "stream",
     "text": [
      "[20 60 80]\n",
      "[20 60 80]\n",
      "[[20 40]]\n",
      "[[20]\n",
      " [60]]\n"
     ]
    }
   ],
   "source": [
    "print(np.delete(a,1))\n",
    "print(np.delete(b,1)) # 2D becomes 1D array\n",
    "print(np.delete(b,1,axis=0))\n",
    "print(np.delete(b,1,axis=1))"
   ]
  }
 ],
 "metadata": {
  "kernelspec": {
   "display_name": "Python 3 (ipykernel)",
   "language": "python",
   "name": "python3"
  },
  "language_info": {
   "codemirror_mode": {
    "name": "ipython",
    "version": 3
   },
   "file_extension": ".py",
   "mimetype": "text/x-python",
   "name": "python",
   "nbconvert_exporter": "python",
   "pygments_lexer": "ipython3",
   "version": "3.12.3"
  }
 },
 "nbformat": 4,
 "nbformat_minor": 5
}
