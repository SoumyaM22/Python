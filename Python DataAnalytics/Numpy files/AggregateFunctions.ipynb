{
 "cells": [
  {
   "cell_type": "code",
   "execution_count": 8,
   "id": "b98c703f-7658-4bce-808e-e7e387875afc",
   "metadata": {},
   "outputs": [
    {
     "name": "stdout",
     "output_type": "stream",
     "text": [
      "200\n",
      "20\n",
      "80\n",
      "4\n",
      "50.0\n",
      "[ 20  60 120 200]\n",
      "[     20     800   48000 3840000]\n"
     ]
    }
   ],
   "source": [
    "import numpy as np\n",
    "a = np.array([20,40,60,80])\n",
    "\n",
    "print(np.sum(a))\n",
    "print(np.min(a))\n",
    "print(np.max(a))\n",
    "print(np.size(a))\n",
    "print(np.mean(a)) #mean formula - sum of elements/ no. of elements = 200/4\n",
    "print(np.cumsum(a)) #cummulative sum\n",
    "print(np.cumprod(a)) #cummulative product"
   ]
  },
  {
   "cell_type": "code",
   "execution_count": 28,
   "id": "095791e5-e820-4169-8bfe-f10923778d0a",
   "metadata": {},
   "outputs": [
    {
     "name": "stdout",
     "output_type": "stream",
     "text": [
      "[100 150 199 200 250 130] \n",
      " [10 50 30 40 30 10]\n",
      "1029\n",
      "[ 100  250  449  649  899 1029 1039 1089 1119 1159 1189 1199]\n",
      "[[ 100  150  199  200  250  130]\n",
      " [1000 7500 5970 8000 7500 1300]]\n",
      "<built-in method sum of numpy.ndarray object at 0x0000028EBDBA03F0>\n"
     ]
    }
   ],
   "source": [
    "a = [100,150,199,200,250,130]\n",
    "b = [10,50,30,40,30,10]\n",
    "price = np.array(a)\n",
    "quantity = np.array(b)\n",
    "print(price,\"\\n\",quantity)\n",
    "print(np.sum(price))\n",
    "print(np.cumsum([price,quantity]))\n",
    "c = np.cumprod([price,quantity],axis=0)\n",
    "print(c)\n",
    "print(c[1].sum)"
   ]
  },
  {
   "cell_type": "code",
   "execution_count": null,
   "id": "2a9473ae-ad03-4ea0-9af8-667ff47c3446",
   "metadata": {},
   "outputs": [],
   "source": []
  }
 ],
 "metadata": {
  "kernelspec": {
   "display_name": "Python 3 (ipykernel)",
   "language": "python",
   "name": "python3"
  },
  "language_info": {
   "codemirror_mode": {
    "name": "ipython",
    "version": 3
   },
   "file_extension": ".py",
   "mimetype": "text/x-python",
   "name": "python",
   "nbconvert_exporter": "python",
   "pygments_lexer": "ipython3",
   "version": "3.12.3"
  }
 },
 "nbformat": 4,
 "nbformat_minor": 5
}
