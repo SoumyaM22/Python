{
 "cells": [
  {
   "cell_type": "code",
   "execution_count": 2,
   "id": "b0e47ce5-1c8b-4881-b317-9384100d0977",
   "metadata": {},
   "outputs": [
    {
     "name": "stdout",
     "output_type": "stream",
     "text": [
      "[30, 40, 50, 5, 5, 3]\n"
     ]
    }
   ],
   "source": [
    "list1 = [30,40,50]\n",
    "list2 = [5,5,3]\n",
    "print(list1+list2) # concatention"
   ]
  },
  {
   "cell_type": "code",
   "execution_count": 5,
   "id": "badf9303-9c75-4a46-821b-453ef718acf7",
   "metadata": {},
   "outputs": [
    {
     "name": "stdout",
     "output_type": "stream",
     "text": [
      "[30 40 50  5  5  3]\n"
     ]
    }
   ],
   "source": [
    "import numpy as np\n",
    "arr1 = np.array([30,40,50])\n",
    "arr2 = np.array([5,5,3])\n",
    "print(np.concatenate([arr1,arr2]))"
   ]
  },
  {
   "cell_type": "code",
   "execution_count": 26,
   "id": "a52ad33d-20f7-4f1b-a523-f98207a500c4",
   "metadata": {},
   "outputs": [
    {
     "name": "stdout",
     "output_type": "stream",
     "text": [
      "[[30 40]\n",
      " [50 10]\n",
      " [ 5  5]\n",
      " [ 3  3]]\n",
      "[[30 40  5  5]\n",
      " [50 10  3  3]]\n"
     ]
    }
   ],
   "source": [
    "arr1 = np.array([[30,40],[50,10]])\n",
    "arr2 = np.array([[5,5],[3,3]])\n",
    "print(np.concatenate([arr1,arr2]))\n",
    "print(np.concatenate([arr1,arr2],axis=1))\n",
    "#print(np.concatenate([arr1,arr2],axis=2)) \n",
    "#AxisError: axis 2 is out of bounds for array of dimension 2"
   ]
  },
  {
   "cell_type": "code",
   "execution_count": 13,
   "id": "4f16d0ee-57a9-4e8a-863f-00c45e3af312",
   "metadata": {},
   "outputs": [
    {
     "name": "stdout",
     "output_type": "stream",
     "text": [
      "[[30 40  5  5]\n",
      " [50 10  3  3]]\n"
     ]
    }
   ],
   "source": [
    "print(np.hstack([arr1,arr2])) #horizontal concatenation"
   ]
  },
  {
   "cell_type": "code",
   "execution_count": 14,
   "id": "3e957d01-43b7-495e-99ea-5097cfd934d4",
   "metadata": {},
   "outputs": [
    {
     "name": "stdout",
     "output_type": "stream",
     "text": [
      "[[30 40]\n",
      " [50 10]\n",
      " [ 5  5]\n",
      " [ 3  3]]\n"
     ]
    }
   ],
   "source": [
    "print(np.vstack([arr1,arr2])) #vertical concatenation"
   ]
  },
  {
   "cell_type": "code",
   "execution_count": 23,
   "id": "2e1ad8fe-38d8-4de6-9007-e057fd543550",
   "metadata": {},
   "outputs": [
    {
     "name": "stdout",
     "output_type": "stream",
     "text": [
      "[array([20, 40]), array([30, 40]), array([10]), array([20])]\n",
      "[30 40]\n",
      "[array([20, 40]), array([30]), array([40]), array([10]), array([20])]\n"
     ]
    }
   ],
   "source": [
    "a = np.array([20,40,30,40,10,20])\n",
    "b = np.array_split(a,4)\n",
    "print(b)\n",
    "print(b[1])\n",
    "print(np.array_split(a,5))"
   ]
  },
  {
   "cell_type": "code",
   "execution_count": 24,
   "id": "fbf5dffb-7af1-4461-883f-c55923aea5b3",
   "metadata": {},
   "outputs": [
    {
     "name": "stdout",
     "output_type": "stream",
     "text": [
      "[array([[20, 40, 30]]), array([[40, 10, 20]]), array([], shape=(0, 3), dtype=int64)]\n"
     ]
    }
   ],
   "source": [
    "a = np.array([[20,40,30],[40,10,20]])\n",
    "b = np.array_split(a,3)\n",
    "print(b)"
   ]
  }
 ],
 "metadata": {
  "kernelspec": {
   "display_name": "Python 3 (ipykernel)",
   "language": "python",
   "name": "python3"
  },
  "language_info": {
   "codemirror_mode": {
    "name": "ipython",
    "version": 3
   },
   "file_extension": ".py",
   "mimetype": "text/x-python",
   "name": "python",
   "nbconvert_exporter": "python",
   "pygments_lexer": "ipython3",
   "version": "3.12.3"
  }
 },
 "nbformat": 4,
 "nbformat_minor": 5
}
