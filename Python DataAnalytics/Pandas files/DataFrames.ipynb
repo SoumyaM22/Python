{
 "cells": [
  {
   "cell_type": "code",
   "execution_count": 1,
   "id": "c8293cfa-7e82-49cc-8c76-d72cb58ebc0f",
   "metadata": {},
   "outputs": [
    {
     "name": "stdout",
     "output_type": "stream",
     "text": [
      "    Name  Age  Salary\n",
      "0   John   25   30000\n",
      "1  Peter   28   45000\n",
      "2   Lisa   31   25000\n"
     ]
    }
   ],
   "source": [
    "import pandas as pd\n",
    "data = {\"Name\": [\"John\",\"Peter\",\"Lisa\"],\n",
    "       \"Age\":[25,28,31],\n",
    "       \"Salary\":[30000,45000,25000]}\n",
    "df = pd.DataFrame(data)\n",
    "print(df)"
   ]
  },
  {
   "cell_type": "code",
   "execution_count": 3,
   "id": "c72c6182-9656-40b0-af38-72cf12870111",
   "metadata": {},
   "outputs": [
    {
     "name": "stdout",
     "output_type": "stream",
     "text": [
      "       Name \\tGender  \\tSalary\n",
      "0    Ayushi      \\tF     20000\n",
      "1     Rohit      \\tM     25000\n",
      "2  Pranjali      \\tF     27000\n"
     ]
    }
   ],
   "source": [
    "import pandas as pd\n",
    "data = pd.read_csv(\"C:/Users/Soumya/Desktop/DataFiles/Consumers\")\n",
    "print(data)"
   ]
  },
  {
   "cell_type": "code",
   "execution_count": 11,
   "id": "d62e9aec-5be7-447d-84c0-33a8961638ce",
   "metadata": {},
   "outputs": [
    {
     "name": "stdout",
     "output_type": "stream",
     "text": [
      "         Name Gender  Salary\n",
      "0      Ayushi      F   20000\n",
      "1       Rohit      M   25000\n",
      "2  Pratanjali      F   27000\n",
      "3       Priya      F   30000\n"
     ]
    }
   ],
   "source": [
    "import pandas as pd\n",
    "data2 = pd.read_excel(\"C:/Users/Soumya/Desktop/DataFiles/expense.xlsx\")\n",
    "print(data2)"
   ]
  },
  {
   "cell_type": "code",
   "execution_count": null,
   "id": "74d9143e-9642-4392-a603-8deed6b9ecc5",
   "metadata": {},
   "outputs": [],
   "source": []
  }
 ],
 "metadata": {
  "kernelspec": {
   "display_name": "Python 3 (ipykernel)",
   "language": "python",
   "name": "python3"
  },
  "language_info": {
   "codemirror_mode": {
    "name": "ipython",
    "version": 3
   },
   "file_extension": ".py",
   "mimetype": "text/x-python",
   "name": "python",
   "nbconvert_exporter": "python",
   "pygments_lexer": "ipython3",
   "version": "3.12.3"
  }
 },
 "nbformat": 4,
 "nbformat_minor": 5
}
