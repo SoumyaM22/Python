{
 "cells": [
  {
   "cell_type": "code",
   "execution_count": 9,
   "id": "10e722f9-6e2a-49e8-9d38-79a708905d78",
   "metadata": {},
   "outputs": [
    {
     "name": "stdout",
     "output_type": "stream",
     "text": [
      "  First name  Last name  Salary EEID\n",
      "0       ross  tribbiani   20000   E1\n",
      "1     rachel       bing   40000   E2\n",
      "2     monica      green   25000   E7\n",
      "3       joey     geller   60000   E8\n",
      "4   chandler     buffay   33000   E4\n",
      "5     phoebe       bing   45000   E5\n",
      "  First name  Last name  Salary EEID    Bonus\n",
      "0       ross  tribbiani   20000   E1   4000.0\n",
      "1     rachel       bing   40000   E2   8000.0\n",
      "2     monica      green   25000   E7   5000.0\n",
      "3       joey     geller   60000   E8  12000.0\n",
      "4   chandler     buffay   33000   E4   6600.0\n",
      "5     phoebe       bing   45000   E5   9000.0\n"
     ]
    }
   ],
   "source": [
    "import pandas as pd\n",
    "\n",
    "data = pd.read_excel(\"C:/Users/Soumya/Desktop/DataFiles/practise_1.xlsx\")\n",
    "print(data)\n",
    "\n",
    "data[\"Bonus\"] = (data[\"Salary\"]/100)*20\n",
    "print(data)"
   ]
  },
  {
   "cell_type": "code",
   "execution_count": 14,
   "id": "97eb6400-f27f-402d-8e26-08ba3067ef5e",
   "metadata": {},
   "outputs": [
    {
     "name": "stdout",
     "output_type": "stream",
     "text": [
      "      Months\n",
      "0    January\n",
      "1  Februaury\n",
      "2      March\n",
      "3      April\n",
      "      Months Short_months\n",
      "0    January          Jan\n",
      "1  Februaury          Feb\n",
      "2      March          Mar\n",
      "3      April          Apr\n"
     ]
    }
   ],
   "source": [
    "data = {\"Months\":[\"January\",\"Februaury\",\"March\",\"April\"]}\n",
    "a = pd.DataFrame(data)\n",
    "print(a)\n",
    "\n",
    "def extract(value): # here value is string, as \"Months\" column values are passed as string\n",
    "    return value[0:3] # Now this string can be slicied\n",
    "    \n",
    "# a[\"Short_months\"] = a[\"Months\"].str.a[0:3] #No o/p: as slicing doesn't work here in DataFrame\n",
    "a[\"Short_months\"] = a[\"Months\"].map(extract)\n",
    "print(a)"
   ]
  },
  {
   "cell_type": "code",
   "execution_count": null,
   "id": "1c40dcf2-ed42-426d-99fd-6971396c08f0",
   "metadata": {},
   "outputs": [],
   "source": []
  }
 ],
 "metadata": {
  "kernelspec": {
   "display_name": "Python 3 (ipykernel)",
   "language": "python",
   "name": "python3"
  },
  "language_info": {
   "codemirror_mode": {
    "name": "ipython",
    "version": 3
   },
   "file_extension": ".py",
   "mimetype": "text/x-python",
   "name": "python",
   "nbconvert_exporter": "python",
   "pygments_lexer": "ipython3",
   "version": "3.12.3"
  }
 },
 "nbformat": 4,
 "nbformat_minor": 5
}
