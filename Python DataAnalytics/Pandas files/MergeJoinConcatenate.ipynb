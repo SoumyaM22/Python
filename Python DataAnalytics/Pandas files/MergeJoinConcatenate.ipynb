{
 "cells": [
  {
   "cell_type": "code",
   "execution_count": 45,
   "id": "66dafa11-9dd1-4b64-8009-37e42a30376c",
   "metadata": {},
   "outputs": [
    {
     "name": "stdout",
     "output_type": "stream",
     "text": [
      "  Emp Id   Names  Age\n",
      "0    E01     Ram   34\n",
      "1    E02   Shyam   56\n",
      "2    E03   Rahul   23\n",
      "3    E04  Vishal   44\n",
      "4    E05    Ravi   32\n",
      "5    E06    John   36\n",
      "  Emp Id  Salary\n",
      "0    E01   45000\n",
      "1    E02   56000\n",
      "2    E03   34000\n",
      "3    E04   30000\n",
      "4    E05   50000\n",
      "5    E06   62000\n",
      "  Emp Id  Salary\n",
      "0    E01   45000\n",
      "1    E07   56000\n",
      "2    E03   34000\n",
      "3    E04   30000\n",
      "4    E08   50000\n",
      "5    E06   62000\n"
     ]
    }
   ],
   "source": [
    "import pandas as pd\n",
    "\n",
    "data1 = {\"Emp Id\":[\"E01\",\"E02\",\"E03\",\"E04\",\"E05\",\"E06\"],\n",
    "        \"Names\":[\"Ram\",\"Shyam\",\"Rahul\",\"Vishal\",\"Ravi\",\"John\"],\n",
    "        \"Age\":[34,56,23,44,32,36]}\n",
    "data2 = {\"Emp Id\":[\"E01\",\"E02\",\"E03\",\"E04\",\"E05\",\"E06\"],\n",
    "        \"Salary\":[45000,56000,34000,30000,50000,62000]}\n",
    "data3 = {\"Emp Id\":[\"E01\",\"E07\",\"E03\",\"E04\",\"E08\",\"E06\"],\n",
    "        \"Salary\":[45000,56000,34000,30000,50000,62000]}\n",
    "df1 = pd.DataFrame(data1)\n",
    "df2 = pd.DataFrame(data2)\n",
    "df3 = pd.DataFrame(data3)\n",
    "\n",
    "print(df1)\n",
    "print(df2)\n",
    "print(df3)"
   ]
  },
  {
   "cell_type": "code",
   "execution_count": 44,
   "id": "35a31b70-57dc-4672-af84-c3882224c308",
   "metadata": {},
   "outputs": [
    {
     "name": "stdout",
     "output_type": "stream",
     "text": [
      "  Emp Id   Names  Age  Salary\n",
      "0    E01     Ram   34   45000\n",
      "1    E03   Rahul   23   34000\n",
      "2    E04  Vishal   44   30000\n",
      "3    E06    John   36   62000\n",
      "  Emp Id   Names  Age   Salary\n",
      "0    E01     Ram   34  45000.0\n",
      "1    E02   Shyam   56      NaN\n",
      "2    E03   Rahul   23  34000.0\n",
      "3    E04  Vishal   44  30000.0\n",
      "4    E05    Ravi   32      NaN\n",
      "5    E06    John   36  62000.0\n",
      "  Emp Id   Names   Age  Salary\n",
      "0    E01     Ram  34.0   45000\n",
      "1    E07     NaN   NaN   56000\n",
      "2    E03   Rahul  23.0   34000\n",
      "3    E04  Vishal  44.0   30000\n",
      "4    E08     NaN   NaN   50000\n",
      "5    E06    John  36.0   62000\n",
      "  Emp Id   Names   Age   Salary\n",
      "0    E01     Ram  34.0  45000.0\n",
      "1    E02   Shyam  56.0      NaN\n",
      "2    E03   Rahul  23.0  34000.0\n",
      "3    E04  Vishal  44.0  30000.0\n",
      "4    E05    Ravi  32.0      NaN\n",
      "5    E06    John  36.0  62000.0\n",
      "6    E07     NaN   NaN  56000.0\n",
      "7    E08     NaN   NaN  50000.0\n"
     ]
    }
   ],
   "source": [
    "#print(pd.merge(df1,df2,on = \"Emp Id\"))\n",
    "#Shift+tab - to get signature of merge()\n",
    "#merging df1 & df2 on basis of Emp Id\n",
    "#Using Merge Inner JOIN -  Returns a DataFrame containing only the common records between the two DataFrames.\n",
    "\n",
    "print(pd.merge(df1,df3,on = \"Emp Id\", how = \"inner\"))\n",
    "#Using Merge Left Join - Returns a DataFrame containing all records from the left DataFrame (df1), and the matching records from the right DataFrame (df3).\n",
    "print(pd.merge(left = df1,right = df3,on = \"Emp Id\", how = \"left\"))\n",
    "#Using Merge Right Join - Returns a DataFrame containing all records from the right DataFrame (df3), and the matching records from the left DataFrame (df1).\n",
    "print(pd.merge(left = df1,right = df3,on = \"Emp Id\", how = \"right\"))\n",
    "#Using Merge Outer Join -  Returns a DataFrame containing all records from both DataFrames, filling in missing values with NaN.\n",
    "pd_outer = pd.merge(df1,df3,on = \"Emp Id\", how = \"outer\")\n",
    "print(pd_outer)"
   ]
  },
  {
   "cell_type": "code",
   "execution_count": 40,
   "id": "62e6cd40-3756-470c-8020-5a05b3d827ef",
   "metadata": {},
   "outputs": [
    {
     "name": "stdout",
     "output_type": "stream",
     "text": [
      "       Age      City\n",
      "Name                \n",
      "John    25  New York\n",
      "Jane    30    London\n",
      "Bob     35     Paris\n",
      "Alice   40     Tokyo\n",
      "INNER JOIN\n",
      "Empty DataFrame\n",
      "Columns: [Age, City]\n",
      "Index: []\n",
      "OUTER JOIN\n",
      "        Age      City\n",
      "50000   NaN       NaN\n",
      "60000   NaN       NaN\n",
      "70000   NaN       NaN\n",
      "80000   NaN       NaN\n",
      "Alice  40.0     Tokyo\n",
      "Bob    35.0     Paris\n",
      "Jane   30.0    London\n",
      "John   25.0  New York\n",
      "LEFT JOIN\n",
      "       Age      City\n",
      "Name                \n",
      "John    25  New York\n",
      "Jane    30    London\n",
      "Bob     35     Paris\n",
      "Alice   40     Tokyo\n",
      "RIGHT JOIN\n",
      "        Age City\n",
      "salary          \n",
      "50000   NaN  NaN\n",
      "60000   NaN  NaN\n",
      "70000   NaN  NaN\n",
      "80000   NaN  NaN\n"
     ]
    }
   ],
   "source": [
    "#The main difference between pd.merge() and pd.join() is that \n",
    "# pd.merge() operates on one or more columns, \n",
    "# while pd.join() operates on the index of the DataFrames.\n",
    "import pandas as pd\n",
    "\n",
    "# Create the first DataFrame\n",
    "data1 = {'Name': ['John', 'Jane', 'Bob', 'Alice'],\n",
    "         'Age': [25, 30, 35, 40],\n",
    "         'City': ['New York', 'London', 'Paris', 'Tokyo']}\n",
    "\n",
    "df1 = pd.DataFrame(data1)\n",
    "df1 = df1.set_index('Name')\n",
    "print(df1)\n",
    "\n",
    "data2 = {'salary':[50000, 60000, 70000, 80000]}\n",
    "df2 = pd.DataFrame(data2)\n",
    "df2 = df2.set_index('salary')\n",
    "\n",
    "## Joining DataFrames using pd.join()\n",
    "\n",
    "### Inner Join\n",
    "print(\"INNER JOIN\")\n",
    "df_inner = df1.join(df2, how=\"inner\")\n",
    "print(df_inner)\n",
    "\n",
    "### Outer Join -  Includes all rows from both DataFrames, filling in missing values with NaN.\n",
    "print(\"OUTER JOIN\")\n",
    "df_outer = df1.join(df2, how=\"outer\")\n",
    "print(df_outer)\n",
    "\n",
    "### Left Join - Returns a DataFrame containing all records from the left DataFrame (df1), \n",
    "# and the matching records from the right DataFrame (df2).\n",
    "print(\"LEFT JOIN\")\n",
    "df_left = df1.join(df2, how='left')\n",
    "print(df_left)\n",
    "\"\"\"\n",
    "         Age      City\n",
    "Name                         \n",
    "Alice    40.0     Tokyo\n",
    "Bob      35.0     Paris\n",
    "Jane     30.0    London\n",
    "John     25.0  New York\n",
    "\"\"\"\n",
    "\n",
    "### Right Join - Returns a DataFrame containing all records from the right DataFrame (df2),\n",
    "# and the matching records from the left DataFrame (df1).\n",
    "print(\"RIGHT JOIN\")\n",
    "df_right = df1.join(df2, how='right')\n",
    "print(df_right)\n",
    "\"\"\"\n",
    "        Age City\n",
    "salary          \n",
    "50000   NaN  NaN\n",
    "60000   NaN  NaN\n",
    "70000   NaN  NaN\n",
    "80000   NaN  NaN\n",
    "\"\"\""
   ]
  },
  {
   "cell_type": "code",
   "execution_count": 19,
   "id": "4c5646ca-d672-4feb-834c-49064547fc07",
   "metadata": {},
   "outputs": [
    {
     "name": "stdout",
     "output_type": "stream",
     "text": [
      "  Emp Id   Names  Age\n",
      "0    E01     Ram   34\n",
      "1    E02   Shyam   56\n",
      "2    E03   Rahul   23\n",
      "3    E04  Vishal   44\n",
      "4    E05    Ravi   32\n",
      "5    E06    John   36\n",
      "  Emp Id   Names  Age\n",
      "0    E07   bittu   34\n",
      "1    E08  chintu   56\n",
      "2    E09   pappu   23\n",
      "3   E010   chotu   44\n",
      "4   E011   bunty   32\n",
      "5   E012    golu   36\n"
     ]
    }
   ],
   "source": [
    "import pandas as pd\n",
    "\n",
    "data1 = {\"Emp Id\":[\"E01\",\"E02\",\"E03\",\"E04\",\"E05\",\"E06\"],\n",
    "        \"Names\":[\"Ram\",\"Shyam\",\"Rahul\",\"Vishal\",\"Ravi\",\"John\"],\n",
    "        \"Age\":[34,56,23,44,32,36]}\n",
    "data2 = {\"Emp Id\":[\"E07\",\"E08\",\"E09\",\"E010\",\"E011\",\"E012\"],\n",
    "        \"Names\":[\"bittu\",\"chintu\",\"pappu\",\"chotu\",\"bunty\",\"golu\"],\n",
    "        \"Age\":[34,56,23,44,32,36]}\n",
    "df1 = pd.DataFrame(data1)\n",
    "df2 = pd.DataFrame(data2)\n",
    "print(df1)\n",
    "print(df2)"
   ]
  },
  {
   "cell_type": "code",
   "execution_count": 21,
   "id": "9c2db554-dbee-4fea-8435-f9b133ae17a2",
   "metadata": {},
   "outputs": [
    {
     "name": "stdout",
     "output_type": "stream",
     "text": [
      "  Emp Id   Names  Age\n",
      "0    E01     Ram   34\n",
      "1    E02   Shyam   56\n",
      "2    E03   Rahul   23\n",
      "3    E04  Vishal   44\n",
      "4    E05    Ravi   32\n",
      "5    E06    John   36\n",
      "0    E07   bittu   34\n",
      "1    E08  chintu   56\n",
      "2    E09   pappu   23\n",
      "3   E010   chotu   44\n",
      "4   E011   bunty   32\n",
      "5   E012    golu   36\n"
     ]
    }
   ],
   "source": [
    "print(pd.concat([df1,df2]))\n",
    "#to concatenate - we should have 2 similar Dataframes"
   ]
  }
 ],
 "metadata": {
  "kernelspec": {
   "display_name": "Python 3 (ipykernel)",
   "language": "python",
   "name": "python3"
  },
  "language_info": {
   "codemirror_mode": {
    "name": "ipython",
    "version": 3
   },
   "file_extension": ".py",
   "mimetype": "text/x-python",
   "name": "python",
   "nbconvert_exporter": "python",
   "pygments_lexer": "ipython3",
   "version": "3.12.3"
  }
 },
 "nbformat": 4,
 "nbformat_minor": 5
}
