{
 "cells": [
  {
   "cell_type": "code",
   "execution_count": 3,
   "id": "ba61864e-5473-40cb-a27b-a39d25f683ae",
   "metadata": {},
   "outputs": [
    {
     "name": "stdout",
     "output_type": "stream",
     "text": [
      "    EEID      Name Gender   Salary\n",
      "0  EMP01    Ayushi      F      NaN\n",
      "1  EMP02     Rohit      M  25000.0\n",
      "2  EMP03  Pranjali    NaN  27000.0\n",
      "3  EMP01    Ayushi      F  20000.0\n",
      "4  EMP05       NaN      M  25000.0\n",
      "5  EMP06     Rohit      M      NaN\n",
      "6  EMP02     Rohit      M  25000.0\n"
     ]
    }
   ],
   "source": [
    "import pandas as pd\n",
    "data = pd.read_csv(\"C:/Users/Soumya/Desktop/DataFiles/Company1.csv\")\n",
    "print(data)"
   ]
  },
  {
   "cell_type": "code",
   "execution_count": 4,
   "id": "bcf4f35c-868f-48b2-89d9-eece3328307b",
   "metadata": {},
   "outputs": [
    {
     "name": "stdout",
     "output_type": "stream",
     "text": [
      "    EEID   Name  Gender  Salary\n",
      "0  False  False   False    True\n",
      "1  False  False   False   False\n",
      "2  False  False    True   False\n",
      "3  False  False   False   False\n",
      "4  False   True   False   False\n",
      "5  False  False   False    True\n",
      "6  False  False   False   False\n"
     ]
    }
   ],
   "source": [
    "print(data.isnull())"
   ]
  },
  {
   "cell_type": "code",
   "execution_count": 5,
   "id": "a2e85887-9551-4b0f-8baf-eee518312caa",
   "metadata": {},
   "outputs": [
    {
     "name": "stdout",
     "output_type": "stream",
     "text": [
      "24400.0\n"
     ]
    }
   ],
   "source": [
    "print(data[\"Salary\"].mean())"
   ]
  },
  {
   "cell_type": "code",
   "execution_count": 8,
   "id": "d57fec06-b676-40f9-a420-d5d5fb738e54",
   "metadata": {},
   "outputs": [
    {
     "name": "stdout",
     "output_type": "stream",
     "text": [
      "    EEID      Name Gender   Salary\n",
      "0  EMP01    Ayushi      F  25000.0\n",
      "1  EMP02     Rohit      M  25000.0\n",
      "2  EMP03  Pranjali      F  27000.0\n",
      "3  EMP01    Ayushi      F  20000.0\n",
      "4  EMP05     Rohit      M  25000.0\n",
      "5  EMP06     Rohit      M  25000.0\n",
      "6  EMP02     Rohit      M  25000.0\n"
     ]
    }
   ],
   "source": [
    "#print(data)\n",
    "#print(data.fillna(method = \"bfill\")) # Backward fill- below values are copied into NaN\n",
    "# OR use as below\n",
    "print(data.bfill()) # below values are copied upwards"
   ]
  },
  {
   "cell_type": "code",
   "execution_count": 7,
   "id": "c9d6b651-baca-447a-aa4d-a03b329612ab",
   "metadata": {},
   "outputs": [
    {
     "name": "stdout",
     "output_type": "stream",
     "text": [
      "    EEID      Name Gender   Salary\n",
      "0  EMP01    Ayushi      F      NaN\n",
      "1  EMP02     Rohit      M  25000.0\n",
      "2  EMP03  Pranjali      M  27000.0\n",
      "3  EMP01    Ayushi      F  20000.0\n",
      "4  EMP05    Ayushi      M  25000.0\n",
      "5  EMP06     Rohit      M  25000.0\n",
      "6  EMP02     Rohit      M  25000.0\n"
     ]
    }
   ],
   "source": [
    "print(data.ffill()) # Forward fill - Upward values are copied into NaN "
   ]
  },
  {
   "cell_type": "code",
   "execution_count": 9,
   "id": "36c8d86e-3283-4c95-8d9a-3b530188b75f",
   "metadata": {},
   "outputs": [
    {
     "name": "stdout",
     "output_type": "stream",
     "text": [
      "             Salary\n",
      "count      5.000000\n",
      "mean   24400.000000\n",
      "std     2607.680962\n",
      "min    20000.000000\n",
      "25%    25000.000000\n",
      "50%    25000.000000\n",
      "75%    25000.000000\n",
      "max    27000.000000\n"
     ]
    }
   ],
   "source": [
    "print(data.describe())"
   ]
  }
 ],
 "metadata": {
  "kernelspec": {
   "display_name": "Python 3 (ipykernel)",
   "language": "python",
   "name": "python3"
  },
  "language_info": {
   "codemirror_mode": {
    "name": "ipython",
    "version": 3
   },
   "file_extension": ".py",
   "mimetype": "text/x-python",
   "name": "python",
   "nbconvert_exporter": "python",
   "pygments_lexer": "ipython3",
   "version": "3.12.3"
  }
 },
 "nbformat": 4,
 "nbformat_minor": 5
}
